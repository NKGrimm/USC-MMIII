{
 "cells": [
  {
   "cell_type": "markdown",
   "metadata": {},
   "source": [
    "# Solucion examen I - mayo 2019"
   ]
  },
  {
   "cell_type": "code",
   "execution_count": 3,
   "metadata": {},
   "outputs": [
    {
     "name": "stdout",
     "output_type": "stream",
     "text": [
      " Last version  Mon Jun 17 17:44:38 2019\n"
     ]
    }
   ],
   "source": [
    "import time\n",
    "print(' Last version ', time.asctime() )"
   ]
  },
  {
   "cell_type": "markdown",
   "metadata": {},
   "source": [
    "-----"
   ]
  },
  {
   "cell_type": "markdown",
   "metadata": {},
   "source": [
    "**Cuestión**: Los conjunto de nivel de $\\log( \\sqrt{x^2+ 2y^2})$ son elipses"
   ]
  },
  {
   "cell_type": "markdown",
   "metadata": {},
   "source": [
    "*Solución*: verdadero\n",
    "\n",
    "$$\n",
    "\\frac{1}{2} \\log(x^2 + 2y^2) = c \\;  \\Rightarrow \\, x^2 + 2y^2 = c' \n",
    "$$"
   ]
  },
  {
   "cell_type": "markdown",
   "metadata": {},
   "source": [
    "**Cuestión**: El campo eléctrico ${\\bf E} = - \\nabla V$, indica la dirección en la que el potencial decrece más rápidamente"
   ]
  },
  {
   "cell_type": "markdown",
   "metadata": {},
   "source": [
    "*Solución*: verdadero, el gradiente indica la dirección de mayor cambio de una función escalar, el signo negativo el mayor decrecimiento."
   ]
  },
  {
   "cell_type": "markdown",
   "metadata": {},
   "source": [
    "**Cuestión**: El desarrollo de Taylor de segundo orden de una función en el origen no puede ser $xy^2$"
   ]
  },
  {
   "cell_type": "markdown",
   "metadata": {},
   "source": [
    "*Solución*: verdadero. El desarrollo de Taylor de segundo orden solo puede ser un polinomio de segundo orden y $x y^2$ es de tercer grado."
   ]
  },
  {
   "cell_type": "markdown",
   "metadata": {},
   "source": [
    "---"
   ]
  },
  {
   "cell_type": "markdown",
   "metadata": {},
   "source": [
    "**Ejercicio**: Calcular el desarrollo de Taylor de segundo orden de $xy + yz + zx$ en el origen"
   ]
  },
  {
   "cell_type": "markdown",
   "metadata": {},
   "source": [
    "*solución*:\n",
    "$$\n",
    "f(0, 0, 0) = 0; \\, \\nabla f(x, y, z) = (y+z, x+z, y+x); \\,  \\nabla f(0, 0, 0) = 0\n",
    "$$\n",
    "\n",
    "$$\n",
    "{\\bf H}(x, y) = \\left( \\begin{array}{ccc} 0 & 1 & 1 \\\\ 1 & 0 & 1 \\\\ 1 & 1 & 0 \\end{array} \\right)\n",
    "$$\n",
    "\n",
    "$$\n",
    "f(x, y, z) = \\frac{1}{2} (x, y, z) \\left( \\begin{array}{ccc} 0 & 1 & 1 \\\\ 1 & 0 & 1 \\\\ 1 & 1 & 0 \\end{array} \\right) \\left( \\begin{array}{c} x \\\\ y \\\\ z \\end{array} \\right) = xy + yz + zx\n",
    "$$"
   ]
  },
  {
   "cell_type": "markdown",
   "metadata": {},
   "source": [
    "---"
   ]
  },
  {
   "cell_type": "markdown",
   "metadata": {},
   "source": [
    "**Ejercicio**: verifica que $f(x, y) = (1 + e^y) \\cos x -y e^y$ no tiene mínimos"
   ]
  },
  {
   "cell_type": "markdown",
   "metadata": {},
   "source": [
    "*Solución*: \n",
    "\n",
    "$$\n",
    "\\nabla f(x, y) = \\left( -(1+e^y) \\sin x, \\, e^y(\\cos x - 1 - y) \\right)\n",
    "$$\n",
    "\n",
    "$$\n",
    "\\nabla f(x, y) = 0 \\rightarrow \\sin x = 0, \\, (\\cos x -1 -y) = 0\n",
    "$$\n",
    "\n",
    "$$\n",
    "x = 2 k \\pi \\rightarrow y = 0; \\; x = (2k+1) \\pi \\rightarrow y = -2; \\; k \\in {\\bf Z}\n",
    "$$\n",
    "\n",
    "\n",
    "puntos críticos\n",
    "$$\n",
    "(2 k \\pi, 0), \\; \\left((2k+1)\\pi, -2 \\right) \\; k \\in {\\bf Z}\n",
    "$$\n",
    "\n",
    "\n",
    "$$\n",
    "{\\bf H}(x, y) = \\left( \\begin{array}{cc} - (1 + e^y) & - e^y \\sin x \\\\ -e ^y \\sin x & e^y ( \\cos x - 2 -y)\n",
    "\\end{array}\\right) \n",
    "$$\n",
    "\n",
    "\n",
    "$$\n",
    "{\\bf H}(2 k \\pi, 0) = \\left( \\begin{array}{cc} -2 & 0 \\\\ 0 & -1 \\end{array} \\right) \n",
    "\\rightarrow \\mathrm{máximo}\n",
    "$$\n",
    "\n",
    "$$\n",
    "{\\bf H}((2 k +1) \\pi, 0) = \\left( \\begin{array}{cc} (1+e^{-2}) & 0 \\\\ 0 & - e^{-2}  \\end{array} \\right) \\rightarrow \\mathrm{silla}\n",
    "$$"
   ]
  },
  {
   "cell_type": "markdown",
   "metadata": {},
   "source": [
    "---"
   ]
  },
  {
   "cell_type": "markdown",
   "metadata": {},
   "source": [
    "**Ejercicio**: sea ${\\bf f}(x, y) = (x^2 + y^2, x^2 - y^2)$. Calcular la derivada direccional en la dirección tangente en los puntos de la circunferencia de radio unidad."
   ]
  },
  {
   "cell_type": "markdown",
   "metadata": {},
   "source": [
    "*solución*:\n",
    " \n",
    "$$\n",
    "{\\bf Df}(x, y) = \\left( \\begin{array}{cc} 2x & 2y \\\\ 2x & -2y \\end{array} \\right)\n",
    "$$\n",
    "\n",
    "la dirección tangente a la cirfunferencia \n",
    "$$\n",
    "{\\bf c}(t) = (\\cos t, \\sin t), \\; \\dot{\\bf c}(t) = (-\\sin t, \\cos t)\n",
    "$$\n",
    "\n",
    "La derivada direccional\n",
    "\n",
    "$$\n",
    "f'({\\bf c}(t); \\dot{\\bf c}(t)) = \\left( \\begin{array}{cc} 2\\cos t & 2\\sin t \\\\ 2\\cos t & -2 \\sin t\\end{array} \\right) \\left( \\begin{array}{c} -\\sin t \\\\ \\cos t \\end{array} \\right) = \\left( \\begin{array}{c} 0 \\\\ - 4 \\cos t \\sin t \\end{array}\\right) = \\left( \\begin{array}{c} 0 \\\\ -2 \\sin 2t\\end{array}\\right)\n",
    "$$"
   ]
  },
  {
   "cell_type": "markdown",
   "metadata": {},
   "source": [
    "*ejercicio* Calcular la matriz jacobiana de la composición de ${\\bf f}$ con la parametrización ${\\bf c}(t) = (\\cos t, \\sin t)$ de la circunferencia de radio unidad"
   ]
  },
  {
   "cell_type": "markdown",
   "metadata": {},
   "source": [
    "*solución*:\n",
    "\n",
    "$$\n",
    "{\\bf h}(t) = {\\bf f}({\\bf c} (t)) = (1, \\cos^2 t - \\sin^2 t) = (1, \\cos 2t)\n",
    "$$\n",
    "\n",
    "$$\n",
    "{\\bf Dh} (t) = \\left( \\begin{array}{c} 0 \\\\ - 2 \\sin 2 t \\end{array} \\right)\n",
    "$$\n",
    "\n",
    "lo mismo que antes"
   ]
  },
  {
   "cell_type": "markdown",
   "metadata": {},
   "source": [
    "*ejercicio*: Calcular los puntos críticos de $x^2 - y^2$ en la circunferencia de radio unidad."
   ]
  },
  {
   "cell_type": "markdown",
   "metadata": {},
   "source": [
    "*solución*:\n",
    "\n",
    "por multiplicadores de Lagrange, o cuando $\\sin 2 t = 0$, esto es $t = 0, \\pi/2, \\pi, 3\\pi/2$\n",
    "\n",
    "luego:\n",
    "$$\n",
    "(1, 0), \\; (0, 1), \\; (-1, 0), \\; (0, -1)\n",
    "$$"
   ]
  },
  {
   "cell_type": "code",
   "execution_count": null,
   "metadata": {},
   "outputs": [],
   "source": []
  }
 ],
 "metadata": {
  "kernelspec": {
   "display_name": "Python 3",
   "language": "python",
   "name": "python3"
  },
  "language_info": {
   "codemirror_mode": {
    "name": "ipython",
    "version": 3
   },
   "file_extension": ".py",
   "mimetype": "text/x-python",
   "name": "python",
   "nbconvert_exporter": "python",
   "pygments_lexer": "ipython3",
   "version": "3.6.8"
  }
 },
 "nbformat": 4,
 "nbformat_minor": 2
}
