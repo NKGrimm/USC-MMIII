{
 "cells": [
  {
   "cell_type": "markdown",
   "metadata": {
    "slideshow": {
     "slide_type": "slide"
    }
   },
   "source": [
    "# Métodos III - Control II\n",
    "\n",
    "Mayo 2019\n"
   ]
  },
  {
   "cell_type": "code",
   "execution_count": 7,
   "metadata": {
    "slideshow": {
     "slide_type": "fragment"
    }
   },
   "outputs": [
    {
     "name": "stdout",
     "output_type": "stream",
     "text": [
      " Last version  Sun May 19 21:05:23 2019\n"
     ]
    }
   ],
   "source": [
    "import time\n",
    "print(' Last version ', time.asctime() )"
   ]
  },
  {
   "cell_type": "code",
   "execution_count": 8,
   "metadata": {
    "slideshow": {
     "slide_type": "skip"
    }
   },
   "outputs": [],
   "source": [
    "# general imports\n",
    "%matplotlib inline\n",
    "%reload_ext autoreload\n",
    "%autoreload 2\n",
    "\n",
    "# numpy and matplotlib\n",
    "import numpy as np\n",
    "import matplotlib\n",
    "import matplotlib.pyplot as plt\n",
    "from mpl_toolkits.mplot3d import Axes3D\n",
    "matplotlib.style.use('ggplot')\n",
    "import graph_utils as gf\n",
    "\n",
    "figsize = 6, 3.8\n",
    "cmap    = 'hot'"
   ]
  },
  {
   "cell_type": "markdown",
   "metadata": {
    "slideshow": {
     "slide_type": "slide"
    }
   },
   "source": [
    "1) Cuestiones:\n",
    "\n",
    "a) La integral ${\\bf F}(x, y, z) = (x, 0, z)$ a lo largo de una línea cerrada en el plano $(x, z)$ es cero."
   ]
  },
  {
   "cell_type": "markdown",
   "metadata": {},
   "source": [
    "*Solución*: Verdadera. El rotacional, $\\nabla \\times F$ = (0, 0, 0), luego por el teorema de Stockes, la integral a lo largo de la línea cerra es nula"
   ]
  },
  {
   "cell_type": "markdown",
   "metadata": {},
   "source": [
    "b) El rotacional de un campo conservativo es nulo."
   ]
  },
  {
   "cell_type": "markdown",
   "metadata": {},
   "source": [
    "*Solución:* verdadero"
   ]
  },
  {
   "cell_type": "markdown",
   "metadata": {},
   "source": [
    "c) Si la integral del flujo es una esfera es nula, la divergencia dentro es nula"
   ]
  },
  {
   "cell_type": "markdown",
   "metadata": {},
   "source": [
    "*Solución*:\n",
    "Lo que es cierto, por el teorema de Gauss, es que la integral de la divergencia dentro de la esfera es nula\n",
    "\n",
    "$$\\int \\nabla {\\bf F} \\, \\mathrm{d}V = 0 $$"
   ]
  },
  {
   "cell_type": "markdown",
   "metadata": {},
   "source": [
    "2) Sea $x= u+v, \\, y = u-v$ calcular y la región $[0, 1] \\times [0, 1]$ en (u, v)\n",
    "\n",
    "$$\n",
    "\\int_D (x+y) \\mathrm{d}x\\mathrm{d}y\n",
    "$$"
   ]
  },
  {
   "cell_type": "markdown",
   "metadata": {},
   "source": [
    "*Solución*:\n",
    "    \n",
    "El jacobiano del cambio de variables es:\n",
    "\n",
    "\n",
    "$$\n",
    "J = \\left| \\begin{array}{cc} 1 & 1  \\\\ 1 & -1 \\end{array} \\right| = | -2 | = 2\n",
    "$$\n",
    "\n",
    "Luego la integral es:\n",
    "\n",
    "$$\n",
    "\\int_0^1\\int_0^1 2 u 2 \\mathrm{d}u \\mathrm{d}v = 2 u^2\\Big|_0^1 v \\Big|_0^1 = 2\n",
    "$$\n",
    "\n",
    "La región $D$:\n",
    "\n",
    "Los puntos en $(u, v)$ se transladan en $(x, y)$:\n",
    "$$ (0, 0)  \\to (0, 0) $$\n",
    "$$ (1, 0)  \\to (1, 1) $$\n",
    "$$ (1, 1)  \\to (2, 0) $$\n",
    "$$ (0, 1) \\to (1, -1) $$"
   ]
  },
  {
   "cell_type": "code",
   "execution_count": 11,
   "metadata": {},
   "outputs": [
    {
     "data": {
      "image/png": "[encoded data removed]",
      "text/plain": [
       "<Figure size 432x288 with 1 Axes>"
      ]
     },
     "metadata": {
      "needs_background": "light"
     },
     "output_type": "display_data"
    }
   ],
   "source": [
    "gf.segment((0, 0), (1, 1));\n",
    "gf.segment((1, 1), (2, 0));\n",
    "gf.segment((2, 0), (1, -1));\n",
    "gf.segment((1, -1), (0, 0));"
   ]
  },
  {
   "cell_type": "markdown",
   "metadata": {},
   "source": [
    "3) Es el ${\\bf F}(x, y) = (y-1, x+1)$ conservativo, calcular la integral entre (0, 0) e (1, 1)"
   ]
  },
  {
   "cell_type": "markdown",
   "metadata": {},
   "source": [
    "El campo es conservativo porque su rotacional es nulo\n",
    "\n",
    "Sea\n",
    "$$\n",
    "V = \\int F_x \\mathrm{d}x \\to V(x, y) = xy -x + g(y)\n",
    "$$\n",
    "\n",
    "y \n",
    "$$\n",
    "F_y = \\frac{\\partial V}{\\partial y} = x + g'(y) = x + 1\n",
    "$$\n",
    "\n",
    "luego $g(y)  = y +C$\n",
    "\n",
    "$$\n",
    "V(x, y) = xy -x +y +C\n",
    "$$\n",
    "\n",
    "Ahora la integral entre $(0, 0)$ e $(1, 1)$ es la diferencia de $V$ en esos puntos\n",
    "\n",
    "$$\n",
    "V(0, 0) = C, \\; V(1, 1) = 1 +C\n",
    "$$\n",
    "\n",
    "$$\n",
    "\\int_{(0, 0)}^{(1, 1)} {\\bf F} \\mathrm{d}{\\bf s} = 1\n",
    "$$"
   ]
  },
  {
   "cell_type": "markdown",
   "metadata": {},
   "source": [
    "4) Verifica el teoream de Stockes para ${\\bf F}(x, y, z) = (y-1, -x+1, z)$ en el casquete de esfera radio unidad centrado en $(1, 0, 0)$ y en el disco de radio unidad centrado en el mismo punto."
   ]
  },
  {
   "cell_type": "markdown",
   "metadata": {},
   "source": [
    "a) La parametrización de la línea frontera de la esfera es:\n",
    "\n",
    "$$\n",
    "{\\bf c}(t) = (1 + \\cos t, \\sin t, 0) \\to \\dot{\\bf c} = (-\\sin t, \\cos t, 0)\n",
    "$$\n",
    "\n",
    "La integral:\n",
    "\n",
    "$$\n",
    "\\int_{{\\bf c}} {\\bf F} \\mathrm{d}{\\bf s} = \\int_0^{2 \\pi} -(\\sin t -1) \\sin t + (-\\cos t) \\cos t = - \\int_0^{2\\pi} \\mathrm{d}t - \\cos t \\Big|_0^{2\\pi} = - 2 \\pi\n",
    "$$\n",
    "\n",
    "b) El rotacional de ${\\bf F}$\n",
    "\n",
    "$$\n",
    "\\nabla \\times {\\bf F} = (0, 0, -2) \n",
    "$$\n",
    "\n",
    "El casquete superior de la esfera de radio unidad en esféricas es $\\phi \\in [0, 2\\pi)$ y $\\theta = [0, \\pi/2]$ con el diferencial de área:\n",
    "\n",
    "$$\n",
    "\\mathrm{d} {\\bf n} = \\sin \\theta \\left(  \\sin \\theta \\cos \\phi, \\sin \\theta \\sin \\phi,  \\cos \\theta \\right)\n",
    "$$\n",
    "\n",
    "Luego la integral en la superfice queda:\n",
    "\n",
    "$$\n",
    "\\int_0^{2\\pi} \\int_0^{\\pi/2} -2 \\sin \\theta \\cos \\theta \\mathrm{d}\\theta \\mathrm{d}\\phi = - 2 \\pi \\, sin^2 \\theta \\Big|_0^{\\pi/2} = - 2\\pi\n",
    "$$\n",
    "\n",
    "c) Para el disco de radio unidad, la integral a lo largo de la línea frontera es la misma de a), y para la superficie:\n",
    "\n",
    "$$\n",
    "\\int_{\\sigma} -2 \\mathrm{d}\\sigma = -2 (\\pi r^2 \\Big|_0^1) = -2 \\pi\n",
    "$$\n"
   ]
  },
  {
   "cell_type": "markdown",
   "metadata": {},
   "source": [
    "5) Integral el campo ${\\bf F}(x, y, z) = (x^2, y^2, z)$ en el cilindro de radio unidada, altura unidad, centrada su base inferior en el origen.\n"
   ]
  },
  {
   "cell_type": "markdown",
   "metadata": {},
   "source": [
    "*Solución*: Aplicamos el teorema de Gauss:\n",
    "\n",
    "$\\nabla {\\bf F} = 2x + 2y +1$\n",
    "\n",
    "la integrales en el volumen del cilindro de $2x$ y $2y$ se anunan por simetría (el volumen es simétrico en $x$ y la función $2x$ antisimétrica). Solo queda la integral, que es igual al volumen del cilindo de radio y altura unidad.\n",
    "\n",
    "$$\n",
    "\\int_V \\mathrm{d}V = \\pi\n",
    "$$"
   ]
  },
  {
   "cell_type": "code",
   "execution_count": null,
   "metadata": {},
   "outputs": [],
   "source": []
  }
 ],
 "metadata": {
  "anaconda-cloud": {},
  "celltoolbar": "Slideshow",
  "kernelspec": {
   "display_name": "Python 3",
   "language": "python",
   "name": "python3"
  },
  "language_info": {
   "codemirror_mode": {
    "name": "ipython",
    "version": 3
   },
   "file_extension": ".py",
   "mimetype": "text/x-python",
   "name": "python",
   "nbconvert_exporter": "python",
   "pygments_lexer": "ipython3",
   "version": "3.6.8"
  }
 },
 "nbformat": 4,
 "nbformat_minor": 1
}
